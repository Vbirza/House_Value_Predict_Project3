{
 "cells": [
  {
   "cell_type": "code",
   "execution_count": 128,
   "metadata": {},
   "outputs": [],
   "source": [
    "%matplotlib inline\n",
    "import pandas as pd\n",
    "import numpy as np\n",
    "import matplotlib.pyplot as plt\n",
    "import seaborn as sns"
   ]
  },
  {
   "cell_type": "code",
   "execution_count": 129,
   "metadata": {},
   "outputs": [],
   "source": [
    "hpi = pd.DataFrame(pd.read_csv('hpi_final.csv'))\n",
    "cpb = pd.DataFrame(pd.read_csv('cpb_final.csv'))\n",
    "bps = pd.DataFrame(pd.read_csv('building_permits_final.csv'))\n",
    "pop = pd.DataFrame(pd.read_csv('../../../../House_Value_Predict_Project3/Population_Change.csv'))\n",
    "inc = pd.DataFrame(pd.read_csv('../../../../House_Value_Predict_Project3/county_income.csv'))"
   ]
  },
  {
   "cell_type": "code",
   "execution_count": 130,
   "metadata": {},
   "outputs": [],
   "source": [
    "pop = pop[['Id2', 'year','one_year', 'two_years', 'three_years', 'four_years', 'five_years']]\n",
    "\n",
    "pop.one_year = pop.one_year.shift(-1)\n",
    "pop.two_years = pop.two_years.shift(-2)\n",
    "pop.three_years = pop.three_years.shift(-3)\n",
    "pop.four_years = pop.four_years.shift(-4)\n",
    "pop.five_years = pop.five_years.shift(-5)\n",
    "pop = pop.rename(columns = {\n",
    "    'Id2': 'county_code',\n",
    "    'one_year': 'one_year_pop',\n",
    "    'two_years': 'two_years_pop',\n",
    "    'three_years': 'three_years_pop',\n",
    "    'four_years': 'four_years_pop',\n",
    "    'five_years': 'five_years_pop'\n",
    "})"
   ]
  },
  {
   "cell_type": "code",
   "execution_count": 161,
   "metadata": {},
   "outputs": [
    {
     "data": {
      "text/html": [
       "<div>\n",
       "<style scoped>\n",
       "    .dataframe tbody tr th:only-of-type {\n",
       "        vertical-align: middle;\n",
       "    }\n",
       "\n",
       "    .dataframe tbody tr th {\n",
       "        vertical-align: top;\n",
       "    }\n",
       "\n",
       "    .dataframe thead th {\n",
       "        text-align: right;\n",
       "    }\n",
       "</style>\n",
       "<table border=\"1\" class=\"dataframe\">\n",
       "  <thead>\n",
       "    <tr style=\"text-align: right;\">\n",
       "      <th></th>\n",
       "      <th></th>\n",
       "      <th>hh_income</th>\n",
       "      <th>one_year_inc</th>\n",
       "      <th>two_years_inc</th>\n",
       "      <th>three_years_inc</th>\n",
       "      <th>four_years_inc</th>\n",
       "      <th>five_years_inc</th>\n",
       "    </tr>\n",
       "    <tr>\n",
       "      <th>county_code</th>\n",
       "      <th>year</th>\n",
       "      <th></th>\n",
       "      <th></th>\n",
       "      <th></th>\n",
       "      <th></th>\n",
       "      <th></th>\n",
       "      <th></th>\n",
       "    </tr>\n",
       "  </thead>\n",
       "  <tbody>\n",
       "    <tr>\n",
       "      <th rowspan=\"5\" valign=\"top\">1001</th>\n",
       "      <th>2007</th>\n",
       "      <td>18275</td>\n",
       "      <td>0.005363</td>\n",
       "      <td>0.000711</td>\n",
       "      <td>0.078960</td>\n",
       "      <td>0.094282</td>\n",
       "      <td>0.090780</td>\n",
       "    </tr>\n",
       "    <tr>\n",
       "      <th>2008</th>\n",
       "      <td>18373</td>\n",
       "      <td>-0.004626</td>\n",
       "      <td>0.073205</td>\n",
       "      <td>0.088445</td>\n",
       "      <td>0.084962</td>\n",
       "      <td>0.092418</td>\n",
       "    </tr>\n",
       "    <tr>\n",
       "      <th>2009</th>\n",
       "      <td>18288</td>\n",
       "      <td>0.078193</td>\n",
       "      <td>0.093504</td>\n",
       "      <td>0.090004</td>\n",
       "      <td>0.097496</td>\n",
       "      <td>0.110236</td>\n",
       "    </tr>\n",
       "    <tr>\n",
       "      <th>2010</th>\n",
       "      <td>19718</td>\n",
       "      <td>0.014200</td>\n",
       "      <td>0.010954</td>\n",
       "      <td>0.017902</td>\n",
       "      <td>0.029719</td>\n",
       "      <td>0.034385</td>\n",
       "    </tr>\n",
       "    <tr>\n",
       "      <th>2011</th>\n",
       "      <td>19998</td>\n",
       "      <td>-0.003200</td>\n",
       "      <td>0.003650</td>\n",
       "      <td>0.015302</td>\n",
       "      <td>0.019902</td>\n",
       "      <td>0.040104</td>\n",
       "    </tr>\n",
       "  </tbody>\n",
       "</table>\n",
       "</div>"
      ],
      "text/plain": [
       "                  hh_income  one_year_inc  two_years_inc  three_years_inc  \\\n",
       "county_code year                                                            \n",
       "1001        2007      18275      0.005363       0.000711         0.078960   \n",
       "            2008      18373     -0.004626       0.073205         0.088445   \n",
       "            2009      18288      0.078193       0.093504         0.090004   \n",
       "            2010      19718      0.014200       0.010954         0.017902   \n",
       "            2011      19998     -0.003200       0.003650         0.015302   \n",
       "\n",
       "                  four_years_inc  five_years_inc  \n",
       "county_code year                                  \n",
       "1001        2007        0.094282        0.090780  \n",
       "            2008        0.084962        0.092418  \n",
       "            2009        0.097496        0.110236  \n",
       "            2010        0.029719        0.034385  \n",
       "            2011        0.019902        0.040104  "
      ]
     },
     "execution_count": 161,
     "metadata": {},
     "output_type": "execute_result"
    }
   ],
   "source": [
    "inc = inc[['county_code', 'year', 'hh_income']]\n",
    "\n",
    "gb = inc.groupby(['county_code', 'year']).mean()\n",
    "\n",
    "\n",
    "def percent_change(gb):\n",
    "    gb['one_year_inc']=gb['hh_income'].pct_change(periods=1).shift(-1)\n",
    "    gb['two_years_inc']=gb['hh_income'].pct_change(periods=2).shift(-2)\n",
    "    gb['three_years_inc']=gb['hh_income'].pct_change(periods=3).shift(-3)\n",
    "    gb['four_years_inc']=gb['hh_income'].pct_change(periods=4).shift(-4)\n",
    "    gb['five_years_inc']=gb['hh_income'].pct_change(periods=5).shift(-5)\n",
    "    \n",
    "    return gb\n",
    "\n",
    "inc = gb.groupby(level=0).apply(percent_change)\n",
    "\n",
    "inc.head()"
   ]
  },
  {
   "cell_type": "code",
   "execution_count": 131,
   "metadata": {},
   "outputs": [],
   "source": [
    "hpi = hpi[['county', 'year', 'hpi','one_year', 'two_years', 'three_years',\n",
    "       'four_years', 'five_years'\n",
    "          ]]\n",
    "bps = bps[['date', 'county_code', 'single_units', 'total_units']]\n",
    "cpb = cpb[['county_code', 'year', 'EMP', 'ESTAB', 'PAYANN',\n",
    "           'one_year_emp',\n",
    "       'two_years_emp', 'three_years_emp', 'four_years_emp', 'five_years_emp',\n",
    "       'one_year_estab', 'two_years_estab', 'three_years_estab',\n",
    "       'four_years_estab', 'five_years_estab', 'one_year_pay', 'two_years_pay',\n",
    "       'three_years_pay', 'four_years_pay', 'five_years_pay'\n",
    "          ]]\n",
    "hpi.rename(columns={'county': 'county_code'}, inplace=True)\n",
    "bps.rename(columns={'date': 'year'}, inplace=True)"
   ]
  },
  {
   "cell_type": "code",
   "execution_count": 162,
   "metadata": {},
   "outputs": [],
   "source": [
    "df = pd.merge(hpi, cpb, how='inner', on=['county_code', 'year'])\n",
    "\n",
    "df1 = pd.merge(df, bps, how='inner', on=['county_code', 'year'])\n",
    "\n",
    "df2 = pd.merge(df1, pop, how='inner', on = ['county_code', 'year'])\n",
    "\n",
    "df3 = pd.merge(df2, inc.reset_index(), how=\"inner\", on = ['county_code', 'year'])"
   ]
  },
  {
   "cell_type": "code",
   "execution_count": 163,
   "metadata": {},
   "outputs": [],
   "source": [
    "df3 = df3.replace([np.inf, -np.inf], np.nan)\n",
    "df3 = df3.dropna()"
   ]
  },
  {
   "cell_type": "code",
   "execution_count": 170,
   "metadata": {},
   "outputs": [
    {
     "name": "stderr",
     "output_type": "stream",
     "text": [
      "C:\\Users\\nilay\\Anaconda3\\lib\\site-packages\\seaborn\\axisgrid.py:2065: UserWarning: The `size` parameter has been renamed to `height`; pleaes update your code.\n",
      "  warnings.warn(msg, UserWarning)\n"
     ]
    },
    {
     "data": {
      "image/png": "[encoded data removed]",
      "text/plain": [
       "<Figure size 540x540 with 12 Axes>"
      ]
     },
     "metadata": {},
     "output_type": "display_data"
    }
   ],
   "source": [
    "sns.set()\n",
    "cols = ['five_years','five_years_pop', 'five_years_inc']\n",
    "sns.pairplot(df3[cols], size = 2.5)\n",
    "plt.show();"
   ]
  },
  {
   "cell_type": "code",
   "execution_count": 204,
   "metadata": {},
   "outputs": [
    {
     "name": "stdout",
     "output_type": "stream",
     "text": [
      "(5107, 31) (5107, 1)\n"
     ]
    }
   ],
   "source": [
    "X = df3[[\n",
    "    'EMP', 'ESTAB', 'PAYANN', 'single_units', 'total_units',\n",
    "    'one_year_emp', 'two_years_emp', 'three_years_emp', 'four_years_emp', 'five_years_emp',\n",
    "       'one_year_estab', 'two_years_estab', 'three_years_estab',\n",
    "       'four_years_estab', 'five_years_estab', 'one_year_pay', 'two_years_pay',\n",
    "       'three_years_pay', 'four_years_pay', 'five_years_pay',\n",
    "         'one_year_pop', 'one_year_inc', 'two_years_inc',\n",
    "    'three_years_inc','four_years_inc','five_years_inc',\n",
    "        'two_years_pop', 'three_years_pop', 'four_years_pop',\n",
    "    'five_years_pop', 'hh_income']].values\n",
    "\n",
    "l = [1.14383044e+01 5.14469879e+00 3.81888392e+00 2.50210240e+00\n",
    " 1.82401920e+00 1.28582056e+00 9.11751486e-01 6.39934740e-01\n",
    " 5.87864763e-01 4.69710199e-01 4.35471351e-01 3.46161050e-01\n",
    " 2.63954143e-01 2.04374344e-01 1.99134938e-01 1.86972212e-01\n",
    " 1.54114624e-01 1.00453651e-01 9.14101373e-02 7.14516724e-02\n",
    " 6.29874665e-02 5.26596066e-02 5.01520236e-02 4.87752355e-02\n",
    " 3.42196138e-02 3.16975608e-02 2.16271517e-02 1.27987425e-02\n",
    " 1.15001740e-02 4.56579480e-03 5.24164182e-04]\n",
    "\n",
    "y = df3[['five_years']].values\n",
    "\n",
    "print(X.shape, y.shape)\n",
    "\n",
    "from sklearn.model_selection import train_test_split\n",
    "\n",
    "X_train, X_test, y_train, y_test = train_test_split(X, y, random_state=42)"
   ]
  },
  {
   "cell_type": "code",
   "execution_count": 205,
   "metadata": {},
   "outputs": [],
   "source": [
    "from sklearn.preprocessing import StandardScaler\n",
    "\n",
    "# Create a StandardScater model and fit it to the training data\n",
    "\n",
    "### BEGIN SOLUTION\n",
    "X_scaler = StandardScaler().fit(X_train)\n",
    "y_scaler = StandardScaler().fit(y_train)"
   ]
  },
  {
   "cell_type": "code",
   "execution_count": 206,
   "metadata": {},
   "outputs": [],
   "source": [
    "X_train_scaled = X_scaler.transform(X_train)\n",
    "X_test_scaled = X_scaler.transform(X_test)\n",
    "y_train_scaled = y_scaler.transform(y_train)\n",
    "y_test_scaled = y_scaler.transform(y_test)"
   ]
  },
  {
   "cell_type": "code",
   "execution_count": 176,
   "metadata": {},
   "outputs": [
    {
     "data": {
      "text/plain": [
       "LinearRegression(copy_X=True, fit_intercept=True, n_jobs=1, normalize=False)"
      ]
     },
     "execution_count": 176,
     "metadata": {},
     "output_type": "execute_result"
    }
   ],
   "source": [
    "from sklearn.linear_model import LinearRegression\n",
    "model = LinearRegression()\n",
    "model.fit(X_train_scaled, y_train_scaled)"
   ]
  },
  {
   "cell_type": "code",
   "execution_count": 177,
   "metadata": {},
   "outputs": [
    {
     "data": {
      "text/plain": [
       "LinearRegression(copy_X=True, fit_intercept=True, n_jobs=1, normalize=False)"
      ]
     },
     "execution_count": 177,
     "metadata": {},
     "output_type": "execute_result"
    }
   ],
   "source": [
    "predictions = model.predict(X_test_scaled)\n",
    "model.fit(X_train_scaled, y_train_scaled)"
   ]
  },
  {
   "cell_type": "code",
   "execution_count": 178,
   "metadata": {},
   "outputs": [
    {
     "name": "stdout",
     "output_type": "stream",
     "text": [
      "MSE: 0.6642948011859445, R2: 0.32209614405402565\n"
     ]
    }
   ],
   "source": [
    "from sklearn.metrics import mean_squared_error\n",
    "\n",
    "MSE = mean_squared_error(y_test_scaled, predictions)\n",
    "r2 = model.score(X_test_scaled, y_test_scaled)\n",
    "print(f\"MSE: {MSE}, R2: {r2}\")\n"
   ]
  },
  {
   "cell_type": "code",
   "execution_count": 179,
   "metadata": {},
   "outputs": [
    {
     "name": "stdout",
     "output_type": "stream",
     "text": [
      "MSE: 0.6822357790307556, R2: 0.30378761892523376\n"
     ]
    }
   ],
   "source": [
    "from sklearn.linear_model import Lasso\n",
    "\n",
    "### BEGIN SOLUTION\n",
    "lasso = Lasso(alpha=.01).fit(X_train_scaled, y_train_scaled)\n",
    "\n",
    "predictions = lasso.predict(X_test_scaled)\n",
    "\n",
    "MSE = mean_squared_error(y_test_scaled, predictions)\n",
    "r2 = lasso.score(X_test_scaled, y_test_scaled)\n",
    "### END SOLUTION\n",
    "\n",
    "print(f\"MSE: {MSE}, R2: {r2}\")"
   ]
  },
  {
   "cell_type": "code",
   "execution_count": 180,
   "metadata": {},
   "outputs": [
    {
     "name": "stdout",
     "output_type": "stream",
     "text": [
      "MSE: 0.6643071315305596, R2: 0.32208356110418956\n"
     ]
    }
   ],
   "source": [
    "from sklearn.linear_model import Ridge\n",
    "\n",
    "### BEGIN SOLUTION\n",
    "ridge = Ridge(alpha=.01).fit(X_train_scaled, y_train_scaled)\n",
    "\n",
    "predictions = ridge.predict(X_test_scaled)\n",
    "\n",
    "MSE = mean_squared_error(y_test_scaled, predictions)\n",
    "r2 = ridge.score(X_test_scaled, y_test_scaled)\n",
    "### END SOLUTION\n",
    "\n",
    "print(f\"MSE: {MSE}, R2: {r2}\")"
   ]
  },
  {
   "cell_type": "code",
   "execution_count": 181,
   "metadata": {},
   "outputs": [
    {
     "name": "stdout",
     "output_type": "stream",
     "text": [
      "MSE: 0.6817801034122153, R2: 0.3042526297281447\n"
     ]
    }
   ],
   "source": [
    "from sklearn.linear_model import ElasticNet\n",
    "\n",
    "### BEGIN SOLUTION\n",
    "elasticnet = ElasticNet(alpha=.01).fit(X_train_scaled, y_train_scaled)\n",
    "\n",
    "predictions = elasticnet.predict(X_test_scaled)\n",
    "\n",
    "MSE = mean_squared_error(y_test_scaled, predictions)\n",
    "r2 = elasticnet.score(X_test_scaled, y_test_scaled)\n",
    "### END SOLUTION\n",
    "\n",
    "print(f\"MSE: {MSE}, R2: {r2}\")"
   ]
  },
  {
   "cell_type": "code",
   "execution_count": 101,
   "metadata": {},
   "outputs": [
    {
     "name": "stdout",
     "output_type": "stream",
     "text": [
      "SVR(C=1.0, cache_size=200, coef0=0.0, degree=3, epsilon=0.1, gamma='auto',\n",
      "  kernel='rbf', max_iter=-1, shrinking=True, tol=0.001, verbose=False)\n"
     ]
    },
    {
     "name": "stderr",
     "output_type": "stream",
     "text": [
      "C:\\Users\\nilay\\Anaconda3\\lib\\site-packages\\sklearn\\utils\\validation.py:578: DataConversionWarning: A column-vector y was passed when a 1d array was expected. Please change the shape of y to (n_samples, ), for example using ravel().\n",
      "  y = column_or_1d(y, warn=True)\n"
     ]
    },
    {
     "name": "stdout",
     "output_type": "stream",
     "text": [
      "r2 score: 0.36717907084600354\n",
      "----------------------------------------------------------------------\n",
      "BayesianRidge(alpha_1=1e-06, alpha_2=1e-06, compute_score=False, copy_X=True,\n",
      "       fit_intercept=True, lambda_1=1e-06, lambda_2=1e-06, n_iter=300,\n",
      "       normalize=False, tol=0.001, verbose=False)\n",
      "r2 score: 0.30411232236200014\n",
      "----------------------------------------------------------------------\n",
      "ARDRegression(alpha_1=1e-06, alpha_2=1e-06, compute_score=False, copy_X=True,\n",
      "       fit_intercept=True, lambda_1=1e-06, lambda_2=1e-06, n_iter=300,\n",
      "       normalize=False, threshold_lambda=10000.0, tol=0.001, verbose=False)\n"
     ]
    },
    {
     "name": "stderr",
     "output_type": "stream",
     "text": [
      "C:\\Users\\nilay\\Anaconda3\\lib\\site-packages\\sklearn\\utils\\validation.py:578: DataConversionWarning: A column-vector y was passed when a 1d array was expected. Please change the shape of y to (n_samples, ), for example using ravel().\n",
      "  y = column_or_1d(y, warn=True)\n",
      "C:\\Users\\nilay\\Anaconda3\\lib\\site-packages\\sklearn\\utils\\validation.py:578: DataConversionWarning: A column-vector y was passed when a 1d array was expected. Please change the shape of y to (n_samples, ), for example using ravel().\n",
      "  y = column_or_1d(y, warn=True)\n"
     ]
    },
    {
     "name": "stdout",
     "output_type": "stream",
     "text": [
      "r2 score: 0.3127540978934856\n",
      "----------------------------------------------------------------------\n",
      "LinearRegression(copy_X=True, fit_intercept=True, n_jobs=1, normalize=False)\n",
      "r2 score: 0.312106298827289\n",
      "----------------------------------------------------------------------\n"
     ]
    }
   ],
   "source": [
    "from sklearn import linear_model\n",
    "from sklearn import svm\n",
    "\n",
    "classifiers = [\n",
    "    svm.SVR(),\n",
    "#     linear_model.SGDRegressor(),\n",
    "    linear_model.BayesianRidge(),\n",
    "#     linear_model.LassoLars(),\n",
    "    linear_model.ARDRegression(),\n",
    "#     linear_model.PassiveAggressiveRegressor(),\n",
    "#     linear_model.TheilSenRegressor(),\n",
    "    linear_model.LinearRegression()]\n",
    "\n",
    "for item in classifiers:\n",
    "    print(item)\n",
    "    clf = item\n",
    "    clf.fit(X_train_scaled, y_train_scaled)\n",
    "    r2 = clf.score(X_test_scaled, y_test_scaled)\n",
    "    print(f'r2 score: {r2}')\n",
    "    print('----------------------------------------------------------------------')"
   ]
  },
  {
   "cell_type": "code",
   "execution_count": 224,
   "metadata": {
    "scrolled": true
   },
   "outputs": [
    {
     "name": "stdout",
     "output_type": "stream",
     "text": [
      "[-11.12225732 -48.29113674 -13.26830094 ...  -7.38860164 -12.16886764\n",
      " -12.19526762]\n",
      "-----------------------------------------\n",
      "[1.14383044e+01 5.14469879e+00 3.81888392e+00 2.50210240e+00\n",
      " 1.82401920e+00 1.28582056e+00 9.11751486e-01 6.39934740e-01\n",
      " 5.87864763e-01 4.69710199e-01 4.35471351e-01 3.46161050e-01\n",
      " 2.63954143e-01 2.04374344e-01 1.99134938e-01 1.86972212e-01\n",
      " 1.54114624e-01 1.00453651e-01 9.14101373e-02 7.14516724e-02\n",
      " 6.29874665e-02 5.26596066e-02 5.01520236e-02 4.87752355e-02\n",
      " 3.42196138e-02 3.16975608e-02 2.16271517e-02 1.27987425e-02\n",
      " 1.15001740e-02 4.56579480e-03 5.24164182e-04]\n"
     ]
    }
   ],
   "source": [
    "from sklearn.decomposition import PCA\n",
    "pca = PCA(n_components=31)\n",
    "pca.fit(X_train_scaled)\n",
    "print(pca.)\n",
    "print('-----------------------------------------')\n",
    "print(pca.explained_variance_)"
   ]
  },
  {
   "cell_type": "code",
   "execution_count": 217,
   "metadata": {},
   "outputs": [
    {
     "name": "stdout",
     "output_type": "stream",
     "text": [
      "original shape:    (3830, 31)\n",
      "transformed shape: (3830, 5)\n"
     ]
    }
   ],
   "source": [
    "pca = PCA(n_components=5)\n",
    "pca.fit(X_train_scaled)\n",
    "X_pca = pca.transform(X_train_scaled)\n",
    "print(\"original shape:   \", X_train_scaled.shape)\n",
    "print(\"transformed shape:\", X_pca.shape)"
   ]
  },
  {
   "cell_type": "code",
   "execution_count": 218,
   "metadata": {},
   "outputs": [
    {
     "data": {
      "image/png": "[encoded data removed]",
      "text/plain": [
       "<Figure size 432x288 with 1 Axes>"
      ]
     },
     "metadata": {},
     "output_type": "display_data"
    }
   ],
   "source": [
    "X_new = pca.inverse_transform(X_pca)\n",
    "plt.scatter(X_train_scaled[:, 0], X_train_scaled[:, 1], alpha=0.2)\n",
    "plt.scatter(X_new[:, 0],X_new[:, 1], alpha=0.8)\n",
    "plt.axis('equal');"
   ]
  },
  {
   "cell_type": "code",
   "execution_count": 225,
   "metadata": {},
   "outputs": [],
   "source": [
    "from sklearn.decomposition import PCA as sklearnPCA\n",
    "sklearn_pca = sklearnPCA(n_components=31)\n",
    "Y_sklearn = sklearn_pca.fit_transform(X_train_scaled)"
   ]
  },
  {
   "cell_type": "code",
   "execution_count": 230,
   "metadata": {},
   "outputs": [
    {
     "name": "stdout",
     "output_type": "stream",
     "text": [
      "\n",
      "-----------------------------------------\n",
      "[1.14383044e+01 5.14469879e+00 3.81888392e+00 2.50210240e+00\n",
      " 1.82401920e+00 1.28582056e+00 9.11751486e-01 6.39934740e-01\n",
      " 5.87864763e-01 4.69710199e-01 4.35471351e-01 3.46161050e-01\n",
      " 2.63954143e-01 2.04374344e-01 1.99134938e-01 1.86972212e-01\n",
      " 1.54114624e-01 1.00453651e-01 9.14101373e-02 7.14516724e-02\n",
      " 6.29874665e-02 5.26596066e-02 5.01520236e-02 4.87752355e-02\n",
      " 3.42196138e-02 3.16975608e-02 2.16271517e-02 1.27987425e-02\n",
      " 1.15001740e-02 4.56579480e-03 5.24164182e-04]\n"
     ]
    }
   ],
   "source": [
    "pca = sklearn_pca.fit(X_train_scaled)\n",
    "print(\"\")\n",
    "print('-----------------------------------------')\n",
    "print(pca.explained_variance_)"
   ]
  },
  {
   "cell_type": "code",
   "execution_count": null,
   "metadata": {},
   "outputs": [],
   "source": []
  }
 ],
 "metadata": {
  "kernelspec": {
   "display_name": "Python 3",
   "language": "python",
   "name": "python3"
  },
  "language_info": {
   "codemirror_mode": {
    "name": "ipython",
    "version": 3
   },
   "file_extension": ".py",
   "mimetype": "text/x-python",
   "name": "python",
   "nbconvert_exporter": "python",
   "pygments_lexer": "ipython3",
   "version": "3.7.0"
  }
 },
 "nbformat": 4,
 "nbformat_minor": 2
}
