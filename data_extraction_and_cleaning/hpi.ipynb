{
 "cells": [
  {
   "cell_type": "code",
   "execution_count": null,
   "metadata": {},
   "outputs": [],
   "source": [
    "import pandas as pd"
   ]
  },
  {
   "cell_type": "code",
   "execution_count": null,
   "metadata": {},
   "outputs": [],
   "source": [
    "df = pd.DataFrame(pd.read_csv('house_price_index.csv'))\n",
    "\n",
    "df.head()"
   ]
  },
  {
   "cell_type": "code",
   "execution_count": null,
   "metadata": {
    "scrolled": true
   },
   "outputs": [],
   "source": [
    "df['county'] = df['tract'].astype('str').str[:-6]\n",
    "df.replace('.' ,\"NaN\", inplace=True)\n",
    "df['hpi'] = df['hpi'].astype(\"float\")\n",
    "\n",
    "df = df[['county', 'year','hpi']]\n",
    "gb = df.groupby(['county','year']).mean()\n",
    "\n",
    "gb"
   ]
  },
  {
   "cell_type": "code",
   "execution_count": null,
   "metadata": {},
   "outputs": [],
   "source": [
    "def percent_change(gb):\n",
    "    gb['one_year']=gb['hpi'].pct_change(periods=1).shift(-1)\n",
    "    gb['two_years']=gb['hpi'].pct_change(periods=2).shift(-2)\n",
    "    gb['three_years']=gb['hpi'].pct_change(periods=3).shift(-3)\n",
    "    gb['four_years']=gb['hpi'].pct_change(periods=4).shift(-4)\n",
    "    gb['five_years']=gb['hpi'].pct_change(periods=5).shift(-5)\n",
    "    \n",
    "    return gb"
   ]
  },
  {
   "cell_type": "code",
   "execution_count": null,
   "metadata": {
    "scrolled": true
   },
   "outputs": [],
   "source": [
    "new_df = gb.groupby(level=0).apply(percent_change)"
   ]
  },
  {
   "cell_type": "code",
   "execution_count": null,
   "metadata": {},
   "outputs": [],
   "source": [
    "def percent_change(gb):\n",
    "    gb['previous_one']=gb['hpi'].pct_change(periods=1)\n",
    "    gb['previous_two']=gb['hpi'].pct_change(periods=2)\n",
    "    gb['previous_three']=gb['hpi'].pct_change(periods=3)\n",
    "    gb['previous_four']=gb['hpi'].pct_change(periods=4)\n",
    "    gb['previous_five']=gb['hpi'].pct_change(periods=5)\n",
    "    \n",
    "    return gb"
   ]
  },
  {
   "cell_type": "code",
   "execution_count": null,
   "metadata": {},
   "outputs": [],
   "source": [
    "new_df2 = gb.groupby(level=0).apply(percent_change)"
   ]
  },
  {
   "cell_type": "code",
   "execution_count": null,
   "metadata": {},
   "outputs": [],
   "source": [
    "merge_df = pd.merge(new_df, new_df2, on = ['tract', 'year'], how = 'inner')"
   ]
  },
  {
   "cell_type": "code",
   "execution_count": null,
   "metadata": {},
   "outputs": [],
   "source": [
    "merge_df.to_csv('../data/hpi_final2.csv')"
   ]
  },
  {
   "cell_type": "code",
   "execution_count": null,
   "metadata": {},
   "outputs": [],
   "source": []
  }
 ],
 "metadata": {
  "kernelspec": {
   "display_name": "Python 3",
   "language": "python",
   "name": "python3"
  },
  "language_info": {
   "codemirror_mode": {
    "name": "ipython",
    "version": 3
   },
   "file_extension": ".py",
   "mimetype": "text/x-python",
   "name": "python",
   "nbconvert_exporter": "python",
   "pygments_lexer": "ipython3",
   "version": "3.7.0"
  }
 },
 "nbformat": 4,
 "nbformat_minor": 2
}
