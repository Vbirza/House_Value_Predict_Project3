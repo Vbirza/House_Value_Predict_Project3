{
 "cells": [
  {
   "cell_type": "code",
   "execution_count": 7,
   "metadata": {},
   "outputs": [],
   "source": [
    "import requests\n",
    "import json\n",
    "import pandas as pd\n",
    "\n",
    "base_url = 'https://api.census.gov/data/2017/acs/acs5?'\n",
    "\n",
    "# base_url = 'https://api.census.gov/data/2017/acs/acs5?get=B01001_001E,NAME&for=tract:*&in=state:01&key=YOUR_KEY_GOES_HERE'\n",
    "\n",
    "# get=B01001_001E,NAME&for=county:*&in=state:*&key=YOUR_KEY_GOES_HERE\n",
    "\n",
    "api_key = '576d87411db9ec3effb267049310db27081ecfaf'"
   ]
  },
  {
   "cell_type": "code",
   "execution_count": 123,
   "metadata": {},
   "outputs": [
    {
     "name": "stdout",
     "output_type": "stream",
     "text": [
      "https://api.census.gov/data/2009/acs/acs5?get=B01003_001E,B01002_001E,B17001_002E,B25001_001E,B05002_001E,B05002_002E,B05002_013E,B05002_014E,B07001_001E,B07101_001E,B09001_001E,B11001_001E,B11001_002E,B11001_007E,B11001_003E,B25002_001E,B25002_002E,B25002_003E,B25003_001E,B25003_002E,B25003_003E,B25018_001E,B25019_001E,B25024_001E,B25024_002E,B25024_003E,B25024_004E,B25024_005E,B25024_006E,B25024_007E,B25024_008E,B25024_009E,B25035_001E,B25041_001E,B25041_002E,B25041_003E,B25041_004E,B25041_005E,B25041_006E,B25064_001E,B25065_001E&for=county:*&in=state:*&key=576d87411db9ec3effb267049310db27081ecfaf\n"
     ]
    }
   ],
   "source": [
    "variables = {\n",
    "    'population':'B01003_001E',\n",
    "    \"median_age\": \"B01002_001E\", \n",
    "    \"poverty_count\":'B17001_002E',\n",
    "    'housing_units': 'B00002_001E',\n",
    "    'born_population':'B05002_001E',\n",
    "    'native_born': 'B05002_002E',\n",
    "    'foreign_born': 'B05002_013E',\n",
    "    'naturalized': 'B05002_014E',\n",
    "    'geographic_mobility': 'B07001_001E',\n",
    "    'movers': 'B07101_001E',\n",
    "    'under_18':'B09001_001E',\n",
    "#     'living_arragnemnts_total':'B09021_001E',\n",
    "#     'lives_alone':'B09021_002E',\n",
    "#     'lives_spouse':'B09021_003E',\n",
    "#     'lives_partner':'B09021_004E',\n",
    "    'household_type':'B11001_001E',\n",
    "    'family_household':'B11001_002E',\n",
    "    'nonfamily_household':'B11001_007E',\n",
    "    'married_household':'B11001_003E',\n",
    "    'housing_units':'B25001_001E',\n",
    "    'occupancy_status_total':'B25002_001E',\n",
    "    'occupied':'B25002_002E',\n",
    "    'vacant': 'B25002_003E',\n",
    "    'tenure':'B25003_001E',\n",
    "    'owner_tenure':'B25003_002E',\n",
    "    'renter_tenure': 'B25003_003E',\n",
    "    'median_rooms':'B25018_001E',\n",
    "    'aggregate_rooms': 'B25019_001E',\n",
    "    'units_total':'B25024_001E',\n",
    "    'single_detached': 'B25024_002E',\n",
    "    'single_attached': 'B25024_003E',\n",
    "    'two_units': 'B25024_004E',\n",
    "    'three4_units': 'B25024_005E',\n",
    "    'five9_units': 'B25024_006E',\n",
    "    'ten19_units': 'B25024_007E',\n",
    "    'twenty49_units': 'B25024_008E',\n",
    "    'fiftyplus_units': 'B25024_009E',\n",
    "    'median_year_built':'B25035_001E',\n",
    "    'bedrooms_total':'B25041_001E',\n",
    "    'one_room': 'B25041_002E',\n",
    "    'two_rooms': 'B25041_003E',\n",
    "    'three_rooms': 'B25041_004E',\n",
    "    'four_rooms': 'B25041_005E',\n",
    "    'fiveplus_rooms': 'B25041_006E',\n",
    "    'median_rent':'B25064_001E',\n",
    "    'aggregate_rent': 'B25065_001E',\n",
    "    \n",
    "}\n",
    "\n",
    "v = variables.values()\n",
    "var = dict((v,k) for k,v in variables.items())\n",
    "url = 'https://api.census.gov/data/2009/acs/acs5?' + 'get=' + ','.join(v) +'&for=county:*&in=state:*&key=' + api_key\n",
    "\n",
    "\n",
    "print(url)"
   ]
  },
  {
   "cell_type": "code",
   "execution_count": 124,
   "metadata": {},
   "outputs": [
    {
     "data": {
      "text/plain": [
       "<Response [404]>"
      ]
     },
     "execution_count": 124,
     "metadata": {},
     "output_type": "execute_result"
    }
   ],
   "source": [
    "\n",
    "response = requests.get(url)\n",
    "\n",
    "# r = response.json()\n",
    "response"
   ]
  },
  {
   "cell_type": "code",
   "execution_count": 117,
   "metadata": {
    "scrolled": true
   },
   "outputs": [
    {
     "data": {
      "text/plain": [
       "B01003_001E    3221\n",
       "B01002_001E    3221\n",
       "B17001_002E    3221\n",
       "B25001_001E    3221\n",
       "B05002_001E    3221\n",
       "B05002_002E    3221\n",
       "B05002_013E    3221\n",
       "B05002_014E    3221\n",
       "B07001_001E    3143\n",
       "B07101_001E       0\n",
       "B09001_001E    3221\n",
       "B11001_001E    3221\n",
       "B11001_002E    3221\n",
       "B11001_007E    3221\n",
       "B11001_003E    3221\n",
       "B25002_001E    3221\n",
       "B25002_002E    3221\n",
       "B25002_003E    3221\n",
       "B25003_001E    3221\n",
       "B25003_002E    3221\n",
       "B25003_003E    3221\n",
       "B25018_001E    3221\n",
       "B25019_001E    3221\n",
       "B25024_001E    3221\n",
       "B25024_002E    3221\n",
       "B25024_003E    3221\n",
       "B25024_004E    3221\n",
       "B25024_005E    3221\n",
       "B25024_006E    3221\n",
       "B25024_007E    3221\n",
       "B25024_008E    3221\n",
       "B25024_009E    3221\n",
       "B25035_001E    3221\n",
       "B25041_001E    3221\n",
       "B25041_002E    3221\n",
       "B25041_003E    3221\n",
       "B25041_004E    3221\n",
       "B25041_005E    3221\n",
       "B25041_006E    3221\n",
       "B25064_001E    3221\n",
       "B25065_001E    3220\n",
       "state          3221\n",
       "county         3221\n",
       "dtype: int64"
      ]
     },
     "execution_count": 117,
     "metadata": {},
     "output_type": "execute_result"
    }
   ],
   "source": [
    "r = response.json()\n",
    "headers = r.pop(0)\n",
    "\n",
    "df1 = pd.DataFrame(r, columns=headers)\n",
    "\n",
    "df1.count()"
   ]
  },
  {
   "cell_type": "code",
   "execution_count": 118,
   "metadata": {},
   "outputs": [
    {
     "ename": "KeyError",
     "evalue": "'state'",
     "output_type": "error",
     "traceback": [
      "\u001b[1;31m---------------------------------------------------------------------------\u001b[0m",
      "\u001b[1;31mKeyError\u001b[0m                                  Traceback (most recent call last)",
      "\u001b[1;32m<ipython-input-118-3dff1aec64b9>\u001b[0m in \u001b[0;36m<module>\u001b[1;34m()\u001b[0m\n\u001b[0;32m      1\u001b[0m \u001b[1;32mfor\u001b[0m \u001b[0mx\u001b[0m \u001b[1;32min\u001b[0m \u001b[0mdf1\u001b[0m\u001b[1;33m.\u001b[0m\u001b[0mcolumns\u001b[0m\u001b[1;33m:\u001b[0m\u001b[1;33m\u001b[0m\u001b[0m\n\u001b[0;32m      2\u001b[0m     df1 = df1.rename(columns = {\n\u001b[1;32m----> 3\u001b[1;33m         \u001b[0mx\u001b[0m\u001b[1;33m:\u001b[0m \u001b[0mvar\u001b[0m\u001b[1;33m[\u001b[0m\u001b[0mx\u001b[0m\u001b[1;33m]\u001b[0m\u001b[1;33m\u001b[0m\u001b[0m\n\u001b[0m\u001b[0;32m      4\u001b[0m     })\n",
      "\u001b[1;31mKeyError\u001b[0m: 'state'"
     ]
    }
   ],
   "source": [
    "for x in df1.columns:\n",
    "    df1 = df1.rename(columns = {\n",
    "        x: var[x]\n",
    "    })"
   ]
  },
  {
   "cell_type": "code",
   "execution_count": 119,
   "metadata": {},
   "outputs": [],
   "source": [
    "df1['year'] = 2010"
   ]
  },
  {
   "cell_type": "code",
   "execution_count": 120,
   "metadata": {},
   "outputs": [
    {
     "data": {
      "text/html": [
       "<div>\n",
       "<style scoped>\n",
       "    .dataframe tbody tr th:only-of-type {\n",
       "        vertical-align: middle;\n",
       "    }\n",
       "\n",
       "    .dataframe tbody tr th {\n",
       "        vertical-align: top;\n",
       "    }\n",
       "\n",
       "    .dataframe thead th {\n",
       "        text-align: right;\n",
       "    }\n",
       "</style>\n",
       "<table border=\"1\" class=\"dataframe\">\n",
       "  <thead>\n",
       "    <tr style=\"text-align: right;\">\n",
       "      <th></th>\n",
       "      <th>population</th>\n",
       "      <th>median_age</th>\n",
       "      <th>poverty_count</th>\n",
       "      <th>housing_units</th>\n",
       "      <th>born_population</th>\n",
       "      <th>native_born</th>\n",
       "      <th>foreign_born</th>\n",
       "      <th>naturalized</th>\n",
       "      <th>geographic_mobility</th>\n",
       "      <th>movers</th>\n",
       "      <th>...</th>\n",
       "      <th>one_room</th>\n",
       "      <th>two_rooms</th>\n",
       "      <th>three_rooms</th>\n",
       "      <th>four_rooms</th>\n",
       "      <th>fiveplus_rooms</th>\n",
       "      <th>median_rent</th>\n",
       "      <th>aggregate_rent</th>\n",
       "      <th>state</th>\n",
       "      <th>county</th>\n",
       "      <th>year</th>\n",
       "    </tr>\n",
       "  </thead>\n",
       "  <tbody>\n",
       "    <tr>\n",
       "      <th>0</th>\n",
       "      <td>250699</td>\n",
       "      <td>29.3</td>\n",
       "      <td>53738</td>\n",
       "      <td>83089</td>\n",
       "      <td>250699</td>\n",
       "      <td>188498</td>\n",
       "      <td>62201</td>\n",
       "      <td>21459</td>\n",
       "      <td>246169</td>\n",
       "      <td>None</td>\n",
       "      <td>...</td>\n",
       "      <td>1556</td>\n",
       "      <td>6041</td>\n",
       "      <td>19039</td>\n",
       "      <td>37995</td>\n",
       "      <td>15592</td>\n",
       "      <td>798</td>\n",
       "      <td>25618800</td>\n",
       "      <td>06</td>\n",
       "      <td>047</td>\n",
       "      <td>2010</td>\n",
       "    </tr>\n",
       "    <tr>\n",
       "      <th>1</th>\n",
       "      <td>9605</td>\n",
       "      <td>45.4</td>\n",
       "      <td>1709</td>\n",
       "      <td>5133</td>\n",
       "      <td>9605</td>\n",
       "      <td>8971</td>\n",
       "      <td>634</td>\n",
       "      <td>237</td>\n",
       "      <td>9539</td>\n",
       "      <td>None</td>\n",
       "      <td>...</td>\n",
       "      <td>88</td>\n",
       "      <td>367</td>\n",
       "      <td>1743</td>\n",
       "      <td>2287</td>\n",
       "      <td>564</td>\n",
       "      <td>560</td>\n",
       "      <td>743300</td>\n",
       "      <td>06</td>\n",
       "      <td>049</td>\n",
       "      <td>2010</td>\n",
       "    </tr>\n",
       "    <tr>\n",
       "      <th>2</th>\n",
       "      <td>13905</td>\n",
       "      <td>36.5</td>\n",
       "      <td>1664</td>\n",
       "      <td>13802</td>\n",
       "      <td>13905</td>\n",
       "      <td>11341</td>\n",
       "      <td>2564</td>\n",
       "      <td>715</td>\n",
       "      <td>13808</td>\n",
       "      <td>None</td>\n",
       "      <td>...</td>\n",
       "      <td>898</td>\n",
       "      <td>2691</td>\n",
       "      <td>4699</td>\n",
       "      <td>4016</td>\n",
       "      <td>1289</td>\n",
       "      <td>1029</td>\n",
       "      <td>2377000</td>\n",
       "      <td>06</td>\n",
       "      <td>051</td>\n",
       "      <td>2010</td>\n",
       "    </tr>\n",
       "    <tr>\n",
       "      <th>3</th>\n",
       "      <td>407435</td>\n",
       "      <td>32.8</td>\n",
       "      <td>54276</td>\n",
       "      <td>138833</td>\n",
       "      <td>407435</td>\n",
       "      <td>284647</td>\n",
       "      <td>122788</td>\n",
       "      <td>35597</td>\n",
       "      <td>401432</td>\n",
       "      <td>None</td>\n",
       "      <td>...</td>\n",
       "      <td>2657</td>\n",
       "      <td>17562</td>\n",
       "      <td>40415</td>\n",
       "      <td>52979</td>\n",
       "      <td>21155</td>\n",
       "      <td>1123</td>\n",
       "      <td>69298300</td>\n",
       "      <td>06</td>\n",
       "      <td>053</td>\n",
       "      <td>2010</td>\n",
       "    </tr>\n",
       "    <tr>\n",
       "      <th>4</th>\n",
       "      <td>134051</td>\n",
       "      <td>39.4</td>\n",
       "      <td>12948</td>\n",
       "      <td>54306</td>\n",
       "      <td>134051</td>\n",
       "      <td>103891</td>\n",
       "      <td>30160</td>\n",
       "      <td>11395</td>\n",
       "      <td>132520</td>\n",
       "      <td>None</td>\n",
       "      <td>...</td>\n",
       "      <td>1425</td>\n",
       "      <td>6348</td>\n",
       "      <td>16065</td>\n",
       "      <td>19742</td>\n",
       "      <td>8598</td>\n",
       "      <td>1211</td>\n",
       "      <td>21115900</td>\n",
       "      <td>06</td>\n",
       "      <td>055</td>\n",
       "      <td>2010</td>\n",
       "    </tr>\n",
       "  </tbody>\n",
       "</table>\n",
       "<p>5 rows × 44 columns</p>\n",
       "</div>"
      ],
      "text/plain": [
       "  population median_age poverty_count housing_units born_population  \\\n",
       "0     250699       29.3         53738         83089          250699   \n",
       "1       9605       45.4          1709          5133            9605   \n",
       "2      13905       36.5          1664         13802           13905   \n",
       "3     407435       32.8         54276        138833          407435   \n",
       "4     134051       39.4         12948         54306          134051   \n",
       "\n",
       "  native_born foreign_born naturalized geographic_mobility movers  ...   \\\n",
       "0      188498        62201       21459              246169   None  ...    \n",
       "1        8971          634         237                9539   None  ...    \n",
       "2       11341         2564         715               13808   None  ...    \n",
       "3      284647       122788       35597              401432   None  ...    \n",
       "4      103891        30160       11395              132520   None  ...    \n",
       "\n",
       "  one_room two_rooms three_rooms four_rooms fiveplus_rooms median_rent  \\\n",
       "0     1556      6041       19039      37995          15592         798   \n",
       "1       88       367        1743       2287            564         560   \n",
       "2      898      2691        4699       4016           1289        1029   \n",
       "3     2657     17562       40415      52979          21155        1123   \n",
       "4     1425      6348       16065      19742           8598        1211   \n",
       "\n",
       "  aggregate_rent state county  year  \n",
       "0       25618800    06    047  2010  \n",
       "1         743300    06    049  2010  \n",
       "2        2377000    06    051  2010  \n",
       "3       69298300    06    053  2010  \n",
       "4       21115900    06    055  2010  \n",
       "\n",
       "[5 rows x 44 columns]"
      ]
     },
     "execution_count": 120,
     "metadata": {},
     "output_type": "execute_result"
    }
   ],
   "source": [
    "df1.head()"
   ]
  },
  {
   "cell_type": "code",
   "execution_count": 121,
   "metadata": {},
   "outputs": [
    {
     "name": "stderr",
     "output_type": "stream",
     "text": [
      "C:\\Users\\nilay\\Anaconda3\\lib\\site-packages\\ipykernel_launcher.py:1: FutureWarning: Sorting because non-concatenation axis is not aligned. A future version\n",
      "of pandas will change to not sort by default.\n",
      "\n",
      "To accept the future behavior, pass 'sort=False'.\n",
      "\n",
      "To retain the current behavior and silence the warning, pass 'sort=True'.\n",
      "\n",
      "  \"\"\"Entry point for launching an IPython kernel.\n"
     ]
    }
   ],
   "source": [
    "master_df = pd.concat([master_df, df1], ignore_index=True)"
   ]
  },
  {
   "cell_type": "code",
   "execution_count": 122,
   "metadata": {},
   "outputs": [
    {
     "data": {
      "text/plain": [
       "array([2017, 2016, 2015, 2014, 2013, 2012, 2011, 2010], dtype=int64)"
      ]
     },
     "execution_count": 122,
     "metadata": {},
     "output_type": "execute_result"
    }
   ],
   "source": [
    "master_df.year.unique()"
   ]
  },
  {
   "cell_type": "code",
   "execution_count": 127,
   "metadata": {},
   "outputs": [],
   "source": [
    "final_df = master_df.drop(['lives_alone','lives_partner','lives_spouse','living_arragnemnts_total','movers'], axis=1)"
   ]
  },
  {
   "cell_type": "code",
   "execution_count": 132,
   "metadata": {},
   "outputs": [],
   "source": [
    "final_df['county_code'] = final_df['state'].astype('str') + final_df['county'].astype('str')"
   ]
  },
  {
   "cell_type": "code",
   "execution_count": 134,
   "metadata": {},
   "outputs": [],
   "source": [
    "final_df.to_csv('../data/complete_census.csv')"
   ]
  },
  {
   "cell_type": "code",
   "execution_count": null,
   "metadata": {},
   "outputs": [],
   "source": []
  }
 ],
 "metadata": {
  "kernelspec": {
   "display_name": "Python 3",
   "language": "python",
   "name": "python3"
  },
  "language_info": {
   "codemirror_mode": {
    "name": "ipython",
    "version": 3
   },
   "file_extension": ".py",
   "mimetype": "text/x-python",
   "name": "python",
   "nbconvert_exporter": "python",
   "pygments_lexer": "ipython3",
   "version": "3.7.0"
  }
 },
 "nbformat": 4,
 "nbformat_minor": 2
}
