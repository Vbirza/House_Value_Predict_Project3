{
 "cells": [
  {
   "cell_type": "markdown",
   "metadata": {},
   "source": [
    "# Census Data Pull from 2010 to 2016"
   ]
  },
  {
   "cell_type": "code",
   "execution_count": null,
   "metadata": {},
   "outputs": [],
   "source": [
    "#Imported libraries, set base url and api variables - the url will be rebuild based on parameters like Year, api key \n",
    "# and the data attributes.\n",
    "\n",
    "# take a look at that crazy URL - can you image handtyping it.\n"
   ]
  },
  {
   "cell_type": "code",
   "execution_count": 7,
   "metadata": {},
   "outputs": [],
   "source": [
    "import requests\n",
    "import json\n",
    "import pandas as pd\n",
    "\n",
    "base_url = 'https://api.census.gov/data/2017/acs/acs5?'\n",
    "\n",
    "# base_url = 'https://api.census.gov/data/2017/acs/acs5?get=B01001_001E,NAME&for=tract:*&in=state:01&key=YOUR_KEY_GOES_HERE'\n",
    "\n",
    "# get=B01001_001E,NAME&for=county:*&in=state:*&key=YOUR_KEY_GOES_HERE\n",
    "\n",
    "api_key = '576d87411db9ec3effb267049310db27081ecfaf'"
   ]
  },
  {
   "cell_type": "code",
   "execution_count": 123,
   "metadata": {},
   "outputs": [
    {
     "name": "stdout",
     "output_type": "stream",
     "text": [
      "https://api.census.gov/data/2009/acs/acs5?get=B01003_001E,B01002_001E,B17001_002E,B25001_001E,B05002_001E,B05002_002E,B05002_013E,B05002_014E,B07001_001E,B07101_001E,B09001_001E,B11001_001E,B11001_002E,B11001_007E,B11001_003E,B25002_001E,B25002_002E,B25002_003E,B25003_001E,B25003_002E,B25003_003E,B25018_001E,B25019_001E,B25024_001E,B25024_002E,B25024_003E,B25024_004E,B25024_005E,B25024_006E,B25024_007E,B25024_008E,B25024_009E,B25035_001E,B25041_001E,B25041_002E,B25041_003E,B25041_004E,B25041_005E,B25041_006E,B25064_001E,B25065_001E&for=county:*&in=state:*&key=576d87411db9ec3effb267049310db27081ecfaf\n"
     ]
    }
   ],
   "source": [
    "variables = {\n",
    "    'population':'B01003_001E',\n",
    "    \"median_age\": \"B01002_001E\", \n",
    "    \"poverty_count\":'B17001_002E',\n",
    "    'housing_units': 'B00002_001E',\n",
    "    'born_population':'B05002_001E',\n",
    "    'native_born': 'B05002_002E',\n",
    "    'foreign_born': 'B05002_013E',\n",
    "    'naturalized': 'B05002_014E',\n",
    "    'geographic_mobility': 'B07001_001E',\n",
    "    'movers': 'B07101_001E',\n",
    "    'under_18':'B09001_001E',\n",
    "#     'living_arragnemnts_total':'B09021_001E',\n",
    "#     'lives_alone':'B09021_002E',\n",
    "#     'lives_spouse':'B09021_003E',\n",
    "#     'lives_partner':'B09021_004E',\n",
    "    'household_type':'B11001_001E',\n",
    "    'family_household':'B11001_002E',\n",
    "    'nonfamily_household':'B11001_007E',\n",
    "    'married_household':'B11001_003E',\n",
    "    'housing_units':'B25001_001E',\n",
    "    'occupancy_status_total':'B25002_001E',\n",
    "    'occupied':'B25002_002E',\n",
    "    'vacant': 'B25002_003E',\n",
    "    'tenure':'B25003_001E',\n",
    "    'owner_tenure':'B25003_002E',\n",
    "    'renter_tenure': 'B25003_003E',\n",
    "    'median_rooms':'B25018_001E',\n",
    "    'aggregate_rooms': 'B25019_001E',\n",
    "    'units_total':'B25024_001E',\n",
    "    'single_detached': 'B25024_002E',\n",
    "    'single_attached': 'B25024_003E',\n",
    "    'two_units': 'B25024_004E',\n",
    "    'three4_units': 'B25024_005E',\n",
    "    'five9_units': 'B25024_006E',\n",
    "    'ten19_units': 'B25024_007E',\n",
    "    'twenty49_units': 'B25024_008E',\n",
    "    'fiftyplus_units': 'B25024_009E',\n",
    "    'median_year_built':'B25035_001E',\n",
    "    'bedrooms_total':'B25041_001E',\n",
    "    'one_room': 'B25041_002E',\n",
    "    'two_rooms': 'B25041_003E',\n",
    "    'three_rooms': 'B25041_004E',\n",
    "    'four_rooms': 'B25041_005E',\n",
    "    'fiveplus_rooms': 'B25041_006E',\n",
    "    'median_rent':'B25064_001E',\n",
    "    'aggregate_rent': 'B25065_001E',\n",
    "    \n",
    "}\n",
    "\n",
    "v = variables.values()\n",
    "var = dict((v,k) for k,v in variables.items())\n",
    "years = [2010, 2011, 2012, 2013, 2014, 2015, 2016]\n",
    "\n",
    "# concatanate data for each year into one Master df using a for loop.\n",
    "# loop builds URL, renames df columns and consolidates all the data into one master df.\n",
    "\n",
    "master_df = pd.DataFrame()\n",
    "for year in years:\n",
    "    url = f'https://api.census.gov/data/{year}/acs/acs5?' + 'get=' + ','.join(v) +'&for=county:*&in=state:*&key=' + api_key\n",
    "    response = requests.get(url)\n",
    "    r = response.json()\n",
    "    headers = r.pop(0)\n",
    "\n",
    "    df1 = pd.DataFrame(r, columns=headers)\n",
    "    for x in df1.columns:\n",
    "        df1 = df1.rename(columns = {\n",
    "        x: var[x]\n",
    "        })\n",
    "    \n",
    "    df1['year'] = 2010\n",
    "    master_df = pd.concat([master_df, df1], ignore_index=True)"
   ]
  },
  {
   "cell_type": "code",
   "execution_count": null,
   "metadata": {},
   "outputs": [],
   "source": [
    "#build a new county_code variable and save df to a CSV file.  Country code is the common key that links all the datasets."
   ]
  },
  {
   "cell_type": "code",
   "execution_count": 132,
   "metadata": {},
   "outputs": [],
   "source": [
    "master_df['county_code'] = master_df['state'].astype('str') + master_df['county'].astype('str')"
   ]
  },
  {
   "cell_type": "code",
   "execution_count": 134,
   "metadata": {},
   "outputs": [],
   "source": [
    "master_df.to_csv('../data/complete_census.csv')"
   ]
  },
  {
   "cell_type": "code",
   "execution_count": null,
   "metadata": {},
   "outputs": [],
   "source": []
  }
 ],
 "metadata": {
  "kernelspec": {
   "display_name": "Python 3",
   "language": "python",
   "name": "python3"
  },
  "language_info": {
   "codemirror_mode": {
    "name": "ipython",
    "version": 3
   },
   "file_extension": ".py",
   "mimetype": "text/x-python",
   "name": "python",
   "nbconvert_exporter": "python",
   "pygments_lexer": "ipython3",
   "version": "3.7.2"
  }
 },
 "nbformat": 4,
 "nbformat_minor": 2
}
