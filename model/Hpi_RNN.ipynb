{
 "cells": [
  {
   "cell_type": "code",
   "execution_count": 10,
   "metadata": {},
   "outputs": [
    {
     "name": "stderr",
     "output_type": "stream",
     "text": [
      "Using TensorFlow backend.\n"
     ]
    }
   ],
   "source": [
    "%matplotlib inline\n",
    "import math\n",
    "import sklearn\n",
    "import pandas as pd\n",
    "import numpy as np\n",
    "import seaborn as sns\n",
    "from keras.layers import Dense\n",
    "from keras.layers import LSTM\n",
    "import matplotlib.pyplot as plt\n",
    "from sklearn import preprocessing\n",
    "from keras.models import Sequential\n",
    "from sklearn.metrics import mean_squared_error\n",
    "from sklearn.preprocessing import MinMaxScaler, StandardScaler"
   ]
  },
  {
   "cell_type": "code",
   "execution_count": 2,
   "metadata": {},
   "outputs": [],
   "source": [
    "hpi = pd.DataFrame(pd.read_csv('../Data/hpi_final.csv'))"
   ]
  },
  {
   "cell_type": "code",
   "execution_count": 3,
   "metadata": {},
   "outputs": [],
   "source": [
    "hpi = hpi[['county', 'year', 'hpi','one_year', 'two_years', 'three_years',\n",
    "       'four_years', 'five_years'\n",
    "          ]]\n",
    "\n",
    "hpi.rename(columns={'county': 'county_code'}, inplace=True)"
   ]
  },
  {
   "cell_type": "code",
   "execution_count": 4,
   "metadata": {},
   "outputs": [
    {
     "data": {
      "text/html": [
       "<div>\n",
       "<style scoped>\n",
       "    .dataframe tbody tr th:only-of-type {\n",
       "        vertical-align: middle;\n",
       "    }\n",
       "\n",
       "    .dataframe tbody tr th {\n",
       "        vertical-align: top;\n",
       "    }\n",
       "\n",
       "    .dataframe thead th {\n",
       "        text-align: right;\n",
       "    }\n",
       "</style>\n",
       "<table border=\"1\" class=\"dataframe\">\n",
       "  <thead>\n",
       "    <tr style=\"text-align: right;\">\n",
       "      <th></th>\n",
       "      <th>county_code</th>\n",
       "      <th>year</th>\n",
       "      <th>hpi</th>\n",
       "      <th>one_year</th>\n",
       "      <th>two_years</th>\n",
       "      <th>three_years</th>\n",
       "      <th>four_years</th>\n",
       "      <th>five_years</th>\n",
       "    </tr>\n",
       "  </thead>\n",
       "  <tbody>\n",
       "    <tr>\n",
       "      <th>0</th>\n",
       "      <td>10001</td>\n",
       "      <td>1986</td>\n",
       "      <td>100.000000</td>\n",
       "      <td>0.057325</td>\n",
       "      <td>0.123340</td>\n",
       "      <td>0.194460</td>\n",
       "      <td>0.217233</td>\n",
       "      <td>0.204775</td>\n",
       "    </tr>\n",
       "    <tr>\n",
       "      <th>1</th>\n",
       "      <td>10001</td>\n",
       "      <td>1987</td>\n",
       "      <td>105.732500</td>\n",
       "      <td>0.062436</td>\n",
       "      <td>0.129700</td>\n",
       "      <td>0.151239</td>\n",
       "      <td>0.139456</td>\n",
       "      <td>0.065417</td>\n",
       "    </tr>\n",
       "    <tr>\n",
       "      <th>2</th>\n",
       "      <td>10001</td>\n",
       "      <td>1988</td>\n",
       "      <td>112.334000</td>\n",
       "      <td>0.063311</td>\n",
       "      <td>0.083584</td>\n",
       "      <td>0.072494</td>\n",
       "      <td>0.002806</td>\n",
       "      <td>0.001800</td>\n",
       "    </tr>\n",
       "    <tr>\n",
       "      <th>3</th>\n",
       "      <td>10001</td>\n",
       "      <td>1989</td>\n",
       "      <td>119.446000</td>\n",
       "      <td>0.019066</td>\n",
       "      <td>0.008636</td>\n",
       "      <td>-0.056902</td>\n",
       "      <td>-0.057848</td>\n",
       "      <td>-0.069229</td>\n",
       "    </tr>\n",
       "    <tr>\n",
       "      <th>4</th>\n",
       "      <td>10001</td>\n",
       "      <td>1990</td>\n",
       "      <td>121.723333</td>\n",
       "      <td>-0.010235</td>\n",
       "      <td>-0.074547</td>\n",
       "      <td>-0.075475</td>\n",
       "      <td>-0.086643</td>\n",
       "      <td>-0.073668</td>\n",
       "    </tr>\n",
       "  </tbody>\n",
       "</table>\n",
       "</div>"
      ],
      "text/plain": [
       "   county_code  year         hpi  one_year  two_years  three_years  \\\n",
       "0        10001  1986  100.000000  0.057325   0.123340     0.194460   \n",
       "1        10001  1987  105.732500  0.062436   0.129700     0.151239   \n",
       "2        10001  1988  112.334000  0.063311   0.083584     0.072494   \n",
       "3        10001  1989  119.446000  0.019066   0.008636    -0.056902   \n",
       "4        10001  1990  121.723333 -0.010235  -0.074547    -0.075475   \n",
       "\n",
       "   four_years  five_years  \n",
       "0    0.217233    0.204775  \n",
       "1    0.139456    0.065417  \n",
       "2    0.002806    0.001800  \n",
       "3   -0.057848   -0.069229  \n",
       "4   -0.086643   -0.073668  "
      ]
     },
     "execution_count": 4,
     "metadata": {},
     "output_type": "execute_result"
    }
   ],
   "source": [
    "hpi.head()"
   ]
  },
  {
   "cell_type": "code",
   "execution_count": 5,
   "metadata": {},
   "outputs": [
    {
     "data": {
      "text/html": [
       "<div>\n",
       "<style scoped>\n",
       "    .dataframe tbody tr th:only-of-type {\n",
       "        vertical-align: middle;\n",
       "    }\n",
       "\n",
       "    .dataframe tbody tr th {\n",
       "        vertical-align: top;\n",
       "    }\n",
       "\n",
       "    .dataframe thead th {\n",
       "        text-align: right;\n",
       "    }\n",
       "</style>\n",
       "<table border=\"1\" class=\"dataframe\">\n",
       "  <thead>\n",
       "    <tr style=\"text-align: right;\">\n",
       "      <th></th>\n",
       "      <th></th>\n",
       "      <th>hpi</th>\n",
       "      <th>one_year</th>\n",
       "      <th>two_years</th>\n",
       "      <th>three_years</th>\n",
       "      <th>four_years</th>\n",
       "      <th>five_years</th>\n",
       "    </tr>\n",
       "    <tr>\n",
       "      <th>county_code</th>\n",
       "      <th>year</th>\n",
       "      <th></th>\n",
       "      <th></th>\n",
       "      <th></th>\n",
       "      <th></th>\n",
       "      <th></th>\n",
       "      <th></th>\n",
       "    </tr>\n",
       "  </thead>\n",
       "  <tbody>\n",
       "    <tr>\n",
       "      <th rowspan=\"5\" valign=\"top\">10001</th>\n",
       "      <th>1986</th>\n",
       "      <td>100.000000</td>\n",
       "      <td>0.057325</td>\n",
       "      <td>0.123340</td>\n",
       "      <td>0.194460</td>\n",
       "      <td>0.217233</td>\n",
       "      <td>0.204775</td>\n",
       "    </tr>\n",
       "    <tr>\n",
       "      <th>1987</th>\n",
       "      <td>105.732500</td>\n",
       "      <td>0.062436</td>\n",
       "      <td>0.129700</td>\n",
       "      <td>0.151239</td>\n",
       "      <td>0.139456</td>\n",
       "      <td>0.065417</td>\n",
       "    </tr>\n",
       "    <tr>\n",
       "      <th>1988</th>\n",
       "      <td>112.334000</td>\n",
       "      <td>0.063311</td>\n",
       "      <td>0.083584</td>\n",
       "      <td>0.072494</td>\n",
       "      <td>0.002806</td>\n",
       "      <td>0.001800</td>\n",
       "    </tr>\n",
       "    <tr>\n",
       "      <th>1989</th>\n",
       "      <td>119.446000</td>\n",
       "      <td>0.019066</td>\n",
       "      <td>0.008636</td>\n",
       "      <td>-0.056902</td>\n",
       "      <td>-0.057848</td>\n",
       "      <td>-0.069229</td>\n",
       "    </tr>\n",
       "    <tr>\n",
       "      <th>1990</th>\n",
       "      <td>121.723333</td>\n",
       "      <td>-0.010235</td>\n",
       "      <td>-0.074547</td>\n",
       "      <td>-0.075475</td>\n",
       "      <td>-0.086643</td>\n",
       "      <td>-0.073668</td>\n",
       "    </tr>\n",
       "  </tbody>\n",
       "</table>\n",
       "</div>"
      ],
      "text/plain": [
       "                         hpi  one_year  two_years  three_years  four_years  \\\n",
       "county_code year                                                             \n",
       "10001       1986  100.000000  0.057325   0.123340     0.194460    0.217233   \n",
       "            1987  105.732500  0.062436   0.129700     0.151239    0.139456   \n",
       "            1988  112.334000  0.063311   0.083584     0.072494    0.002806   \n",
       "            1989  119.446000  0.019066   0.008636    -0.056902   -0.057848   \n",
       "            1990  121.723333 -0.010235  -0.074547    -0.075475   -0.086643   \n",
       "\n",
       "                  five_years  \n",
       "county_code year              \n",
       "10001       1986    0.204775  \n",
       "            1987    0.065417  \n",
       "            1988    0.001800  \n",
       "            1989   -0.069229  \n",
       "            1990   -0.073668  "
      ]
     },
     "execution_count": 5,
     "metadata": {},
     "output_type": "execute_result"
    }
   ],
   "source": [
    "hpi2 = hpi.set_index(['county_code', 'year'])\n",
    "hpi2.head()"
   ]
  },
  {
   "cell_type": "code",
   "execution_count": 6,
   "metadata": {},
   "outputs": [
    {
     "data": {
      "image/png": "[encoded data removed]",
      "text/plain": [
       "<Figure size 432x288 with 1 Axes>"
      ]
     },
     "metadata": {
      "needs_background": "light"
     },
     "output_type": "display_data"
    }
   ],
   "source": [
    "dataset = pd.read_csv('../Data/hpi_final.csv', usecols=[3], engine='python')\n",
    "plt.plot(dataset)\n",
    "plt.show()"
   ]
  },
  {
   "cell_type": "code",
   "execution_count": 7,
   "metadata": {},
   "outputs": [
    {
     "data": {
      "text/plain": [
       "county_code  year\n",
       "10001        1986    100.000000\n",
       "             1987    105.732500\n",
       "             1988    112.334000\n",
       "             1989    119.446000\n",
       "             1990    121.723333\n",
       "Name: hpi, dtype: float64"
      ]
     },
     "execution_count": 7,
     "metadata": {},
     "output_type": "execute_result"
    }
   ],
   "source": [
    "hpi3 = hpi2['hpi']\n",
    "hpi3.head()"
   ]
  },
  {
   "cell_type": "code",
   "execution_count": 8,
   "metadata": {},
   "outputs": [],
   "source": [
    "hpi3 = hpi3.replace([np.inf, -np.inf], np.nan)\n",
    "hpi3 = hpi3.dropna()"
   ]
  },
  {
   "cell_type": "code",
   "execution_count": 9,
   "metadata": {},
   "outputs": [
    {
     "data": {
      "text/plain": [
       "'[100.      105.7325  112.334   ... 144.16182 149.60454 158.7885 ]'"
      ]
     },
     "execution_count": 9,
     "metadata": {},
     "output_type": "execute_result"
    }
   ],
   "source": [
    "hpi_data = hpi3.values\n",
    "hpi_data = hpi_data.astype('float32')\n",
    "str(hpi_data)"
   ]
  },
  {
   "cell_type": "code",
   "execution_count": 12,
   "metadata": {},
   "outputs": [
    {
     "name": "stdout",
     "output_type": "stream",
     "text": [
      "71986\n"
     ]
    }
   ],
   "source": [
    "# normalize the dataset\n",
    "hpi_data1 = hpi_data.reshape(-1, 1)\n",
    "min_max_scaler = preprocessing.MinMaxScaler(feature_range=(0, 1))\n",
    "hpi_data2 = min_max_scaler.fit_transform(hpi_data1)\n",
    "print(len(hpi_data2))"
   ]
  },
  {
   "cell_type": "code",
   "execution_count": 13,
   "metadata": {},
   "outputs": [
    {
     "name": "stdout",
     "output_type": "stream",
     "text": [
      "48230 23756\n",
      "48230\n"
     ]
    }
   ],
   "source": [
    "# split into train and test sets\n",
    "train_size = int(len(hpi_data2) * 0.67)\n",
    "test_size = len(hpi_data2) - train_size \n",
    "train, test = hpi_data2[0:train_size,:], hpi_data2[train_size:len(hpi_data2),:]\n",
    "print(len(train), len(test))\n",
    "print(train_size)"
   ]
  },
  {
   "cell_type": "code",
   "execution_count": 14,
   "metadata": {},
   "outputs": [],
   "source": [
    "# convert an array of values into a dataset matrix\n",
    "def hpi_dataset(hpi_data2, tminus=1):\n",
    "    X_data, Y_data = [], []\n",
    "    for i in range(len(hpi_data2)-tminus-1):\n",
    "        a = hpi_data2[i:(i+tminus), 0]\n",
    "        X_data.append(a)\n",
    "        Y_data.append(hpi_data2[i + tminus, 0])\n",
    "    return np.array(X_data), np.array(Y_data)"
   ]
  },
  {
   "cell_type": "code",
   "execution_count": 15,
   "metadata": {},
   "outputs": [],
   "source": [
    "import numpy as np\n",
    "tminus = 6\n",
    "X_train, Y_train = hpi_dataset(train, tminus)\n",
    "X_test, Y_test = hpi_dataset(test, tminus)"
   ]
  },
  {
   "cell_type": "code",
   "execution_count": 16,
   "metadata": {},
   "outputs": [
    {
     "data": {
      "text/plain": [
       "(48223, 6)"
      ]
     },
     "execution_count": 16,
     "metadata": {},
     "output_type": "execute_result"
    }
   ],
   "source": [
    "X_train.shape"
   ]
  },
  {
   "cell_type": "code",
   "execution_count": 17,
   "metadata": {},
   "outputs": [],
   "source": [
    "# reshape input to be [samples, time steps, features]\n",
    "X_train = np.reshape(X_train, (X_train.shape[0], 1, X_train.shape[1]))\n",
    "X_test = np.reshape(X_test, (X_test.shape[0], 1, X_test.shape[1]))"
   ]
  },
  {
   "cell_type": "code",
   "execution_count": 18,
   "metadata": {},
   "outputs": [
    {
     "name": "stdout",
     "output_type": "stream",
     "text": [
      "WARNING:tensorflow:From /anaconda3/lib/python3.7/site-packages/tensorflow/python/framework/op_def_library.py:263: colocate_with (from tensorflow.python.framework.ops) is deprecated and will be removed in a future version.\n",
      "Instructions for updating:\n",
      "Colocations handled automatically by placer.\n"
     ]
    }
   ],
   "source": [
    "# create and fit the LSTM network\n",
    "model = Sequential()\n",
    "model.add(LSTM(2, input_shape=(1, tminus)))\n",
    "model.add(Dense(1))"
   ]
  },
  {
   "cell_type": "code",
   "execution_count": 20,
   "metadata": {},
   "outputs": [
    {
     "name": "stdout",
     "output_type": "stream",
     "text": [
      "CPU times: user 2 µs, sys: 1 µs, total: 3 µs\n",
      "Wall time: 7.87 µs\n",
      "_________________________________________________________________\n",
      "Layer (type)                 Output Shape              Param #   \n",
      "=================================================================\n",
      "lstm_1 (LSTM)                (None, 2)                 72        \n",
      "_________________________________________________________________\n",
      "dense_1 (Dense)              (None, 1)                 3         \n",
      "=================================================================\n",
      "Total params: 75\n",
      "Trainable params: 75\n",
      "Non-trainable params: 0\n",
      "_________________________________________________________________\n"
     ]
    }
   ],
   "source": [
    "%time\n",
    "model.summary()"
   ]
  },
  {
   "cell_type": "code",
   "execution_count": 21,
   "metadata": {},
   "outputs": [],
   "source": [
    "model.compile(loss='mean_squared_error', optimizer='adam', metrics=['mae', 'acc'])"
   ]
  },
  {
   "cell_type": "code",
   "execution_count": 22,
   "metadata": {},
   "outputs": [
    {
     "name": "stdout",
     "output_type": "stream",
     "text": [
      "CPU times: user 3 µs, sys: 1 µs, total: 4 µs\n",
      "Wall time: 6.91 µs\n",
      "WARNING:tensorflow:From /anaconda3/lib/python3.7/site-packages/tensorflow/python/ops/math_ops.py:3066: to_int32 (from tensorflow.python.ops.math_ops) is deprecated and will be removed in a future version.\n",
      "Instructions for updating:\n",
      "Use tf.cast instead.\n",
      "Epoch 1/10\n",
      " - 89s - loss: 4.1743e-04 - mean_absolute_error: 0.0118 - acc: 2.0737e-05\n",
      "Epoch 2/10\n",
      " - 87s - loss: 3.5323e-04 - mean_absolute_error: 0.0100 - acc: 2.0737e-05\n",
      "Epoch 3/10\n",
      " - 84s - loss: 3.4688e-04 - mean_absolute_error: 0.0098 - acc: 2.0737e-05\n",
      "Epoch 4/10\n",
      " - 84s - loss: 3.4589e-04 - mean_absolute_error: 0.0097 - acc: 2.0737e-05\n",
      "Epoch 5/10\n",
      " - 84s - loss: 3.4504e-04 - mean_absolute_error: 0.0096 - acc: 2.0737e-05\n",
      "Epoch 6/10\n",
      " - 85s - loss: 3.4457e-04 - mean_absolute_error: 0.0096 - acc: 2.0737e-05\n",
      "Epoch 7/10\n",
      " - 82s - loss: 3.4297e-04 - mean_absolute_error: 0.0096 - acc: 2.0737e-05\n",
      "Epoch 8/10\n",
      " - 85s - loss: 3.4064e-04 - mean_absolute_error: 0.0095 - acc: 2.0737e-05\n",
      "Epoch 9/10\n",
      " - 84s - loss: 3.3998e-04 - mean_absolute_error: 0.0095 - acc: 2.0737e-05\n",
      "Epoch 10/10\n",
      " - 86s - loss: 3.3886e-04 - mean_absolute_error: 0.0094 - acc: 2.0737e-05\n"
     ]
    }
   ],
   "source": [
    "%time\n",
    "history = model.fit(X_train, Y_train, epochs=10, batch_size=1, verbose=2)"
   ]
  },
  {
   "cell_type": "code",
   "execution_count": 23,
   "metadata": {},
   "outputs": [
    {
     "name": "stdout",
     "output_type": "stream",
     "text": [
      "Train Score: 22.06 RMSE\n",
      "Test Score: 35.83 RMSE\n"
     ]
    }
   ],
   "source": [
    "# make predictions\n",
    "trainPredict = model.predict(X_train)\n",
    "testPredict = model.predict(X_test)\n",
    "# invert predictions\n",
    "trainPredict1 = min_max_scaler.inverse_transform(trainPredict)\n",
    "Y_train1 = min_max_scaler.inverse_transform([Y_train])\n",
    "testPredict1 = min_max_scaler.inverse_transform(testPredict)\n",
    "Y_test1 = min_max_scaler.inverse_transform([Y_test])\n",
    "# calculate root mean squared error\n",
    "trainScore = math.sqrt(mean_squared_error(Y_train1[0], trainPredict1[:,0]))\n",
    "print('Train Score: %.2f RMSE' % (trainScore))\n",
    "testScore = math.sqrt(mean_squared_error(Y_test1[0], testPredict1[:,0]))\n",
    "print('Test Score: %.2f RMSE' % (testScore))"
   ]
  },
  {
   "cell_type": "code",
   "execution_count": 25,
   "metadata": {},
   "outputs": [
    {
     "data": {
      "image/png": "[encoded data removed]",
      "text/plain": [
       "<Figure size 432x288 with 1 Axes>"
      ]
     },
     "metadata": {
      "needs_background": "light"
     },
     "output_type": "display_data"
    }
   ],
   "source": [
    "# shift train predictions for plotting\n",
    "trainPredictPlot = np.empty_like(hpi_data2)\n",
    "trainPredictPlot[:, :] = np.nan\n",
    "trainPredictPlot[tminus:len(trainPredict1)+tminus, :] = trainPredict1\n",
    "# shift test predictions for plotting\n",
    "testPredictPlot = np.empty_like(hpi_data2)\n",
    "testPredictPlot[:, :] = np.nan\n",
    "testPredictPlot[len(trainPredict1)+(tminus*2)+1:len(hpi_data2)-1, :] = testPredict1\n",
    "# plot baseline and predictions\n",
    "plt.plot(min_max_scaler.inverse_transform(hpi_data2))\n",
    "plt.plot(trainPredictPlot)\n",
    "plt.plot(testPredictPlot)\n",
    "plt.show()"
   ]
  },
  {
   "cell_type": "code",
   "execution_count": 27,
   "metadata": {},
   "outputs": [
    {
     "data": {
      "image/png": "[encoded data removed]",
      "text/plain": [
       "<Figure size 432x288 with 1 Axes>"
      ]
     },
     "metadata": {
      "needs_background": "light"
     },
     "output_type": "display_data"
    },
    {
     "data": {
      "image/png": "[encoded data removed]",
      "text/plain": [
       "<Figure size 432x288 with 1 Axes>"
      ]
     },
     "metadata": {
      "needs_background": "light"
     },
     "output_type": "display_data"
    }
   ],
   "source": [
    "# summarize history for accuracy\n",
    "plt.plot(history.history['acc'])\n",
    "# plt.plot(history.history['val_acc'])\n",
    "plt.title('model accuracy')\n",
    "plt.ylabel('accuracy')\n",
    "plt.xlabel('epoch')\n",
    "plt.legend(['train', 'test'], loc='upper left')\n",
    "plt.show()\n",
    "# summarize history for loss\n",
    "plt.plot(history.history['loss'])\n",
    "# plt.plot(history.history['val_loss'])\n",
    "plt.title('model loss')\n",
    "plt.ylabel('loss')\n",
    "plt.xlabel('epoch')\n",
    "plt.legend(['train', 'test'], loc='upper left')\n",
    "plt.show()"
   ]
  },
  {
   "cell_type": "code",
   "execution_count": null,
   "metadata": {},
   "outputs": [],
   "source": []
  }
 ],
 "metadata": {
  "kernelspec": {
   "display_name": "Python 3",
   "language": "python",
   "name": "python3"
  },
  "language_info": {
   "codemirror_mode": {
    "name": "ipython",
    "version": 3
   },
   "file_extension": ".py",
   "mimetype": "text/x-python",
   "name": "python",
   "nbconvert_exporter": "python",
   "pygments_lexer": "ipython3",
   "version": "3.7.2"
  }
 },
 "nbformat": 4,
 "nbformat_minor": 2
}
