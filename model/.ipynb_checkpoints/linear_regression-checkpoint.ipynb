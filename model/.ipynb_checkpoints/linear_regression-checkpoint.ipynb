{
 "cells": [
  {
   "cell_type": "code",
   "execution_count": 2,
   "metadata": {},
   "outputs": [],
   "source": [
    "import pandas as pd\n",
    "import numpy as np"
   ]
  },
  {
   "cell_type": "code",
   "execution_count": 21,
   "metadata": {},
   "outputs": [],
   "source": [
    "m_df = pd.DataFrame(pd.read_csv('../data/model_data.csv'))"
   ]
  },
  {
   "cell_type": "code",
   "execution_count": 22,
   "metadata": {},
   "outputs": [],
   "source": [
    "m_df.median_year_built = m_df.median_year_built.str.replace('-','')\n",
    "m_df.median_year_built = m_df.median_year_built.astype('int')"
   ]
  },
  {
   "cell_type": "code",
   "execution_count": 24,
   "metadata": {},
   "outputs": [],
   "source": [
    "df1 = m_df[[\n",
    "    'previous_one', \n",
    "    'previous_two',\n",
    "    'previous_three',\n",
    "    'previous_four',\n",
    "    'previous_five',\n",
    "    'pop_chg_yoy',\n",
    "    'EMP',\n",
    "    'ESTAB',\n",
    "    'PAYANN',\n",
    "    'single_units',\n",
    "    'total_units',\n",
    "    'hh_income', \n",
    "    'aggregate_rent',\n",
    "    'aggregate_rooms',\n",
    "    'bedrooms_total',\n",
    "    'born_population',\n",
    "    'family_household',\n",
    "    'fiftyplus_units',\n",
    "    'five9_units',\n",
    "    'fiveplus_rooms',\n",
    "    'foreign_born',\n",
    "    'four_rooms',\n",
    "    'geographic_mobility',\n",
    "    'household_type',\n",
    "    'housing_units',\n",
    "    'married_household', \n",
    "    'median_age', \n",
    "    'median_rent',\n",
    "    'median_rooms',\n",
    "    'median_year_built',\n",
    "    'native_born',\n",
    "    'naturalized',\n",
    "    'nonfamily_household',\n",
    "    'occupancy_status_total',\n",
    "    'occupied', \n",
    "    'one_room',\n",
    "    'owner_tenure',\n",
    "    'population',\n",
    "    'poverty_count',\n",
    "    'renter_tenure',\n",
    "    'single_attached',\n",
    "    'single_detached', \n",
    "    'ten19_units',\n",
    "    'tenure',\n",
    "    'three4_units',\n",
    "    'three_rooms',\n",
    "    'twenty49_units',\n",
    "    'two_rooms',\n",
    "    'two_units',\n",
    "    'under_18',\n",
    "    'units_total',\n",
    "    'vacant',\n",
    "#     'hpi_x',\n",
    "    'one_year',\n",
    "#     'two_years',\n",
    "#     'three_years',\n",
    "#     'four_years',\n",
    "#     'five_years',\n",
    "          ]]"
   ]
  },
  {
   "cell_type": "code",
   "execution_count": 25,
   "metadata": {},
   "outputs": [],
   "source": [
    "df = df.replace([np.inf, -np.inf], np.nan)\n",
    "df = df.dropna()"
   ]
  },
  {
   "cell_type": "code",
   "execution_count": 28,
   "metadata": {},
   "outputs": [
    {
     "name": "stdout",
     "output_type": "stream",
     "text": [
      "(10152, 65) (10152, 1)\n"
     ]
    }
   ],
   "source": [
    "X = df.drop(['one_year'], axis=1)\n",
    "# y = df5[['one_year','two_years','three_years','four_years','five_years']]\n",
    "y=df[['one_year']]\n",
    "\n",
    "print(X.shape, y.shape)"
   ]
  },
  {
   "cell_type": "code",
   "execution_count": 29,
   "metadata": {},
   "outputs": [
    {
     "name": "stdout",
     "output_type": "stream",
     "text": [
      "MSE: 0.0012614202652412288, R2: 0.5699671036823236\n"
     ]
    }
   ],
   "source": [
    "from sklearn.model_selection import train_test_split\n",
    "from sklearn.preprocessing import StandardScaler\n",
    "\n",
    "X_scaler = StandardScaler().fit(X)\n",
    "y_scaler = StandardScaler().fit(y)\n",
    "X_scaled = X_scaler.transform(X)\n",
    "y_scaled = y_scaler.transform(y)\n",
    "\n",
    "\n",
    "X_train, X_test, y_train, y_test = train_test_split(X_scaled, y, random_state=42)\n",
    "\n",
    "\n",
    "from sklearn.linear_model import LinearRegression\n",
    "model = LinearRegression()\n",
    "model.fit(X_train, y_train)\n",
    "\n",
    "predictions = model.predict(X_test)\n",
    "model.fit(X_train, y_train)\n",
    "\n",
    "from sklearn.metrics import mean_squared_error\n",
    "\n",
    "MSE = mean_squared_error(y_test, predictions)\n",
    "r2 = model.score(X_test, y_test)\n",
    "print(f\"MSE: {MSE}, R2: {r2}\")\n"
   ]
  },
  {
   "cell_type": "code",
   "execution_count": 30,
   "metadata": {},
   "outputs": [
    {
     "name": "stdout",
     "output_type": "stream",
     "text": [
      "0.5699671036823236\n"
     ]
    }
   ],
   "source": [
    "from sklearn.metrics import  r2_score\n",
    "r2 = r2_score(y_test, predictions)\n",
    "\n",
    "print(r2)"
   ]
  },
  {
   "cell_type": "code",
   "execution_count": null,
   "metadata": {},
   "outputs": [],
   "source": []
  }
 ],
 "metadata": {
  "kernelspec": {
   "display_name": "Python 3",
   "language": "python",
   "name": "python3"
  },
  "language_info": {
   "codemirror_mode": {
    "name": "ipython",
    "version": 3
   },
   "file_extension": ".py",
   "mimetype": "text/x-python",
   "name": "python",
   "nbconvert_exporter": "python",
   "pygments_lexer": "ipython3",
   "version": "3.7.0"
  }
 },
 "nbformat": 4,
 "nbformat_minor": 2
}
